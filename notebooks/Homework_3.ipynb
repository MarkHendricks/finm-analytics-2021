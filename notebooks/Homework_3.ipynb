{
 "cells": [
  {
   "cell_type": "markdown",
   "metadata": {},
   "source": [
    "# HW #3: Time-Series Models"
   ]
  },
  {
   "cell_type": "markdown",
   "metadata": {},
   "source": [
    "## Imports"
   ]
  },
  {
   "cell_type": "code",
   "execution_count": 497,
   "metadata": {},
   "outputs": [],
   "source": [
    "import pandas as pd\n",
    "import numpy as np\n",
    "import statsmodels.api as sm\n",
    "from statsmodels.regression.rolling import RollingOLS\n",
    "from statsmodels.graphics.tsaplots import plot_acf\n",
    "import matplotlib.pyplot as plt\n",
    "from matplotlib.pyplot import figure\n",
    "import seaborn as sns\n",
    "from arch import arch_model\n",
    "from arch.univariate import GARCH, EWMAVariance \n",
    "sns.set(font_scale = 1.2, rc={'figure.figsize':(15,8)})\n",
    "import warnings\n",
    "warnings.filterwarnings('ignore')"
   ]
  },
  {
   "cell_type": "markdown",
   "metadata": {},
   "source": [
    "## Data"
   ]
  },
  {
   "cell_type": "code",
   "execution_count": 498,
   "metadata": {},
   "outputs": [
    {
     "data": {
      "text/html": [
       "<div>\n",
       "<style scoped>\n",
       "    .dataframe tbody tr th:only-of-type {\n",
       "        vertical-align: middle;\n",
       "    }\n",
       "\n",
       "    .dataframe tbody tr th {\n",
       "        vertical-align: top;\n",
       "    }\n",
       "\n",
       "    .dataframe thead th {\n",
       "        text-align: right;\n",
       "    }\n",
       "</style>\n",
       "<table border=\"1\" class=\"dataframe\">\n",
       "  <thead>\n",
       "    <tr style=\"text-align: right;\">\n",
       "      <th></th>\n",
       "      <th>SPY US Equity</th>\n",
       "      <th>AAPL US Equity</th>\n",
       "      <th>CL1 Comdty</th>\n",
       "      <th>DXY Curncy</th>\n",
       "      <th>HFRIMTI Index</th>\n",
       "      <th>Rate Convexity</th>\n",
       "      <th>Portfolio</th>\n",
       "      <th>10-yr Yields</th>\n",
       "      <th>Dvd-Price Ratio</th>\n",
       "    </tr>\n",
       "    <tr>\n",
       "      <th>Date</th>\n",
       "      <th></th>\n",
       "      <th></th>\n",
       "      <th></th>\n",
       "      <th></th>\n",
       "      <th></th>\n",
       "      <th></th>\n",
       "      <th></th>\n",
       "      <th></th>\n",
       "      <th></th>\n",
       "    </tr>\n",
       "  </thead>\n",
       "  <tbody>\n",
       "    <tr>\n",
       "      <th>1999-10-31</th>\n",
       "      <td>0.064078</td>\n",
       "      <td>0.265523</td>\n",
       "      <td>-0.112607</td>\n",
       "      <td>0.005277</td>\n",
       "      <td>0.0235</td>\n",
       "      <td>0.025013</td>\n",
       "      <td>0.000072</td>\n",
       "      <td>0.06024</td>\n",
       "      <td>0.010868</td>\n",
       "    </tr>\n",
       "    <tr>\n",
       "      <th>1999-11-30</th>\n",
       "      <td>0.016651</td>\n",
       "      <td>0.221519</td>\n",
       "      <td>0.130575</td>\n",
       "      <td>0.029578</td>\n",
       "      <td>0.0250</td>\n",
       "      <td>0.027722</td>\n",
       "      <td>0.105636</td>\n",
       "      <td>0.06191</td>\n",
       "      <td>0.010690</td>\n",
       "    </tr>\n",
       "    <tr>\n",
       "      <th>1999-12-31</th>\n",
       "      <td>0.057089</td>\n",
       "      <td>0.050465</td>\n",
       "      <td>0.041074</td>\n",
       "      <td>-0.001177</td>\n",
       "      <td>0.0509</td>\n",
       "      <td>0.040543</td>\n",
       "      <td>0.042261</td>\n",
       "      <td>0.06442</td>\n",
       "      <td>0.009465</td>\n",
       "    </tr>\n",
       "    <tr>\n",
       "      <th>2000-01-31</th>\n",
       "      <td>-0.049787</td>\n",
       "      <td>0.009123</td>\n",
       "      <td>0.079687</td>\n",
       "      <td>0.032002</td>\n",
       "      <td>0.0155</td>\n",
       "      <td>0.034617</td>\n",
       "      <td>0.031966</td>\n",
       "      <td>0.06665</td>\n",
       "      <td>0.009961</td>\n",
       "    </tr>\n",
       "    <tr>\n",
       "      <th>2000-02-29</th>\n",
       "      <td>-0.015226</td>\n",
       "      <td>0.104820</td>\n",
       "      <td>0.100941</td>\n",
       "      <td>0.007515</td>\n",
       "      <td>0.0596</td>\n",
       "      <td>-0.038410</td>\n",
       "      <td>0.063138</td>\n",
       "      <td>0.06409</td>\n",
       "      <td>0.010792</td>\n",
       "    </tr>\n",
       "  </tbody>\n",
       "</table>\n",
       "</div>"
      ],
      "text/plain": [
       "            SPY US Equity  AAPL US Equity  CL1 Comdty  DXY Curncy  \\\n",
       "Date                                                                \n",
       "1999-10-31       0.064078        0.265523   -0.112607    0.005277   \n",
       "1999-11-30       0.016651        0.221519    0.130575    0.029578   \n",
       "1999-12-31       0.057089        0.050465    0.041074   -0.001177   \n",
       "2000-01-31      -0.049787        0.009123    0.079687    0.032002   \n",
       "2000-02-29      -0.015226        0.104820    0.100941    0.007515   \n",
       "\n",
       "            HFRIMTI Index  Rate Convexity  Portfolio  10-yr Yields  \\\n",
       "Date                                                                 \n",
       "1999-10-31         0.0235        0.025013   0.000072       0.06024   \n",
       "1999-11-30         0.0250        0.027722   0.105636       0.06191   \n",
       "1999-12-31         0.0509        0.040543   0.042261       0.06442   \n",
       "2000-01-31         0.0155        0.034617   0.031966       0.06665   \n",
       "2000-02-29         0.0596       -0.038410   0.063138       0.06409   \n",
       "\n",
       "            Dvd-Price Ratio  \n",
       "Date                         \n",
       "1999-10-31         0.010868  \n",
       "1999-11-30         0.010690  \n",
       "1999-12-31         0.009465  \n",
       "2000-01-31         0.009961  \n",
       "2000-02-29         0.010792  "
      ]
     },
     "execution_count": 498,
     "metadata": {},
     "output_type": "execute_result"
    }
   ],
   "source": [
    "data = pd.read_excel(\"data/hw_1_data.xlsx\").rename(columns={\"Unnamed: 0\": \"Date\"}).set_index(\"Date\")\n",
    "data.head()"
   ]
  },
  {
   "cell_type": "markdown",
   "metadata": {},
   "source": [
    "## 1. Forecast Regressions"
   ]
  },
  {
   "cell_type": "markdown",
   "metadata": {},
   "source": [
    "SPY returns are our dependent variable:"
   ]
  },
  {
   "cell_type": "code",
   "execution_count": 499,
   "metadata": {},
   "outputs": [],
   "source": [
    "y = data['SPY US Equity']"
   ]
  },
  {
   "cell_type": "markdown",
   "metadata": {},
   "source": [
    "Define a regression summary function that gives us the parameters and statistics we want:"
   ]
  },
  {
   "cell_type": "code",
   "execution_count": 500,
   "metadata": {},
   "outputs": [],
   "source": [
    "def reg_summary(model):\n",
    "    reg_summary = model.params.to_frame('Parameters')\n",
    "    reg_summary['t-stats'] = round(model.tvalues, 3)\n",
    "    reg_summary.loc[r'$R^{2}$'] = [model.rsquared, \"-\"]\n",
    "\n",
    "    return round(reg_summary, 3)"
   ]
  },
  {
   "cell_type": "markdown",
   "metadata": {},
   "source": [
    "### 1.1a"
   ]
  },
  {
   "cell_type": "markdown",
   "metadata": {},
   "source": [
    "Try to explain future SPY returns using dividend-price ratio:"
   ]
  },
  {
   "cell_type": "code",
   "execution_count": 501,
   "metadata": {},
   "outputs": [
    {
     "data": {
      "text/html": [
       "<div>\n",
       "<style scoped>\n",
       "    .dataframe tbody tr th:only-of-type {\n",
       "        vertical-align: middle;\n",
       "    }\n",
       "\n",
       "    .dataframe tbody tr th {\n",
       "        vertical-align: top;\n",
       "    }\n",
       "\n",
       "    .dataframe thead th {\n",
       "        text-align: right;\n",
       "    }\n",
       "</style>\n",
       "<table border=\"1\" class=\"dataframe\">\n",
       "  <thead>\n",
       "    <tr style=\"text-align: right;\">\n",
       "      <th></th>\n",
       "      <th>Parameters</th>\n",
       "      <th>t-stats</th>\n",
       "    </tr>\n",
       "  </thead>\n",
       "  <tbody>\n",
       "    <tr>\n",
       "      <th>const</th>\n",
       "      <td>-0.014</td>\n",
       "      <td>-1.139</td>\n",
       "    </tr>\n",
       "    <tr>\n",
       "      <th>Dvd-Price Ratio</th>\n",
       "      <td>1.068</td>\n",
       "      <td>1.638</td>\n",
       "    </tr>\n",
       "    <tr>\n",
       "      <th>$R^{2}$</th>\n",
       "      <td>0.011</td>\n",
       "      <td>-</td>\n",
       "    </tr>\n",
       "  </tbody>\n",
       "</table>\n",
       "</div>"
      ],
      "text/plain": [
       "                 Parameters t-stats\n",
       "const                -0.014  -1.139\n",
       "Dvd-Price Ratio       1.068   1.638\n",
       "$R^{2}$               0.011       -"
      ]
     },
     "execution_count": 501,
     "metadata": {},
     "output_type": "execute_result"
    }
   ],
   "source": [
    "X = sm.add_constant(data['Dvd-Price Ratio']).shift(1)\n",
    "model1 = sm.OLS(y,X,missing='drop').fit()\n",
    "\n",
    "reg_summary(model1)"
   ]
  },
  {
   "cell_type": "markdown",
   "metadata": {},
   "source": [
    "### 1.1b"
   ]
  },
  {
   "cell_type": "markdown",
   "metadata": {},
   "source": [
    "Try to explain future SPY returns using 10-year yields:"
   ]
  },
  {
   "cell_type": "code",
   "execution_count": 502,
   "metadata": {},
   "outputs": [
    {
     "data": {
      "text/html": [
       "<div>\n",
       "<style scoped>\n",
       "    .dataframe tbody tr th:only-of-type {\n",
       "        vertical-align: middle;\n",
       "    }\n",
       "\n",
       "    .dataframe tbody tr th {\n",
       "        vertical-align: top;\n",
       "    }\n",
       "\n",
       "    .dataframe thead th {\n",
       "        text-align: right;\n",
       "    }\n",
       "</style>\n",
       "<table border=\"1\" class=\"dataframe\">\n",
       "  <thead>\n",
       "    <tr style=\"text-align: right;\">\n",
       "      <th></th>\n",
       "      <th>Parameters</th>\n",
       "      <th>t-stats</th>\n",
       "    </tr>\n",
       "  </thead>\n",
       "  <tbody>\n",
       "    <tr>\n",
       "      <th>const</th>\n",
       "      <td>0.025</td>\n",
       "      <td>3.119</td>\n",
       "    </tr>\n",
       "    <tr>\n",
       "      <th>10-yr Yields</th>\n",
       "      <td>-0.548</td>\n",
       "      <td>-2.558</td>\n",
       "    </tr>\n",
       "    <tr>\n",
       "      <th>$R^{2}$</th>\n",
       "      <td>0.027</td>\n",
       "      <td>-</td>\n",
       "    </tr>\n",
       "  </tbody>\n",
       "</table>\n",
       "</div>"
      ],
      "text/plain": [
       "              Parameters t-stats\n",
       "const              0.025   3.119\n",
       "10-yr Yields      -0.548  -2.558\n",
       "$R^{2}$            0.027       -"
      ]
     },
     "execution_count": 502,
     "metadata": {},
     "output_type": "execute_result"
    }
   ],
   "source": [
    "X = sm.add_constant(data['10-yr Yields']).shift(1)\n",
    "model2 = sm.OLS(y,X,missing='drop').fit()\n",
    "\n",
    "reg_summary(model2)"
   ]
  },
  {
   "cell_type": "markdown",
   "metadata": {},
   "source": [
    "### 1.1c"
   ]
  },
  {
   "cell_type": "markdown",
   "metadata": {},
   "source": [
    "Try to explain future SPY returns using both divident-price ratio and 10-year yields:"
   ]
  },
  {
   "cell_type": "code",
   "execution_count": 503,
   "metadata": {},
   "outputs": [
    {
     "data": {
      "text/html": [
       "<div>\n",
       "<style scoped>\n",
       "    .dataframe tbody tr th:only-of-type {\n",
       "        vertical-align: middle;\n",
       "    }\n",
       "\n",
       "    .dataframe tbody tr th {\n",
       "        vertical-align: top;\n",
       "    }\n",
       "\n",
       "    .dataframe thead th {\n",
       "        text-align: right;\n",
       "    }\n",
       "</style>\n",
       "<table border=\"1\" class=\"dataframe\">\n",
       "  <thead>\n",
       "    <tr style=\"text-align: right;\">\n",
       "      <th></th>\n",
       "      <th>Parameters</th>\n",
       "      <th>t-stats</th>\n",
       "    </tr>\n",
       "  </thead>\n",
       "  <tbody>\n",
       "    <tr>\n",
       "      <th>const</th>\n",
       "      <td>0.025</td>\n",
       "      <td>1.065</td>\n",
       "    </tr>\n",
       "    <tr>\n",
       "      <th>Dvd-Price Ratio</th>\n",
       "      <td>-0.013</td>\n",
       "      <td>-0.015</td>\n",
       "    </tr>\n",
       "    <tr>\n",
       "      <th>10-yr Yields</th>\n",
       "      <td>-0.551</td>\n",
       "      <td>-1.95</td>\n",
       "    </tr>\n",
       "    <tr>\n",
       "      <th>$R^{2}$</th>\n",
       "      <td>0.027</td>\n",
       "      <td>-</td>\n",
       "    </tr>\n",
       "  </tbody>\n",
       "</table>\n",
       "</div>"
      ],
      "text/plain": [
       "                 Parameters t-stats\n",
       "const                 0.025   1.065\n",
       "Dvd-Price Ratio      -0.013  -0.015\n",
       "10-yr Yields         -0.551   -1.95\n",
       "$R^{2}$               0.027       -"
      ]
     },
     "execution_count": 503,
     "metadata": {},
     "output_type": "execute_result"
    }
   ],
   "source": [
    "X = sm.add_constant(data[['Dvd-Price Ratio','10-yr Yields']]).shift(1)\n",
    "model3 = sm.OLS(y,X,missing='drop').fit()\n",
    "\n",
    "reg_summary(model3)"
   ]
  },
  {
   "cell_type": "markdown",
   "metadata": {},
   "source": [
    "### 1.2a"
   ]
  },
  {
   "cell_type": "markdown",
   "metadata": {},
   "source": [
    "Run autoregressions for both dividend-price ratio and 10-year yields:"
   ]
  },
  {
   "cell_type": "code",
   "execution_count": 504,
   "metadata": {},
   "outputs": [
    {
     "data": {
      "text/html": [
       "<div>\n",
       "<style scoped>\n",
       "    .dataframe tbody tr th:only-of-type {\n",
       "        vertical-align: middle;\n",
       "    }\n",
       "\n",
       "    .dataframe tbody tr th {\n",
       "        vertical-align: top;\n",
       "    }\n",
       "\n",
       "    .dataframe thead th {\n",
       "        text-align: right;\n",
       "    }\n",
       "</style>\n",
       "<table border=\"1\" class=\"dataframe\">\n",
       "  <thead>\n",
       "    <tr style=\"text-align: right;\">\n",
       "      <th></th>\n",
       "      <th>Parameters</th>\n",
       "      <th>t-stats</th>\n",
       "    </tr>\n",
       "  </thead>\n",
       "  <tbody>\n",
       "    <tr>\n",
       "      <th>const</th>\n",
       "      <td>0.002</td>\n",
       "      <td>3.846</td>\n",
       "    </tr>\n",
       "    <tr>\n",
       "      <th>Dvd-Price Ratio</th>\n",
       "      <td>0.888</td>\n",
       "      <td>30.585</td>\n",
       "    </tr>\n",
       "    <tr>\n",
       "      <th>$R^{2}$</th>\n",
       "      <td>0.799</td>\n",
       "      <td>-</td>\n",
       "    </tr>\n",
       "  </tbody>\n",
       "</table>\n",
       "</div>"
      ],
      "text/plain": [
       "                 Parameters t-stats\n",
       "const                 0.002   3.846\n",
       "Dvd-Price Ratio       0.888  30.585\n",
       "$R^{2}$               0.799       -"
      ]
     },
     "execution_count": 504,
     "metadata": {},
     "output_type": "execute_result"
    }
   ],
   "source": [
    "y = data['Dvd-Price Ratio']\n",
    "X = sm.add_constant(data['Dvd-Price Ratio']).shift(1)\n",
    "model4 = sm.OLS(y,X,missing='drop').fit()\n",
    "\n",
    "reg_summary(model4)"
   ]
  },
  {
   "cell_type": "code",
   "execution_count": 505,
   "metadata": {},
   "outputs": [
    {
     "data": {
      "text/html": [
       "<div>\n",
       "<style scoped>\n",
       "    .dataframe tbody tr th:only-of-type {\n",
       "        vertical-align: middle;\n",
       "    }\n",
       "\n",
       "    .dataframe tbody tr th {\n",
       "        vertical-align: top;\n",
       "    }\n",
       "\n",
       "    .dataframe thead th {\n",
       "        text-align: right;\n",
       "    }\n",
       "</style>\n",
       "<table border=\"1\" class=\"dataframe\">\n",
       "  <thead>\n",
       "    <tr style=\"text-align: right;\">\n",
       "      <th></th>\n",
       "      <th>Parameters</th>\n",
       "      <th>t-stats</th>\n",
       "    </tr>\n",
       "  </thead>\n",
       "  <tbody>\n",
       "    <tr>\n",
       "      <th>const</th>\n",
       "      <td>0.001</td>\n",
       "      <td>1.353</td>\n",
       "    </tr>\n",
       "    <tr>\n",
       "      <th>10-yr Yields</th>\n",
       "      <td>0.976</td>\n",
       "      <td>74.319</td>\n",
       "    </tr>\n",
       "    <tr>\n",
       "      <th>$R^{2}$</th>\n",
       "      <td>0.959</td>\n",
       "      <td>-</td>\n",
       "    </tr>\n",
       "  </tbody>\n",
       "</table>\n",
       "</div>"
      ],
      "text/plain": [
       "              Parameters t-stats\n",
       "const              0.001   1.353\n",
       "10-yr Yields       0.976  74.319\n",
       "$R^{2}$            0.959       -"
      ]
     },
     "execution_count": 505,
     "metadata": {},
     "output_type": "execute_result"
    }
   ],
   "source": [
    "y = data['10-yr Yields']\n",
    "X = sm.add_constant(data['10-yr Yields']).shift(1)\n",
    "model5 = sm.OLS(y,X,missing='drop').fit()\n",
    "\n",
    "reg_summary(model5)"
   ]
  },
  {
   "cell_type": "markdown",
   "metadata": {},
   "source": [
    "### 1.2b\n",
    "\n",
    "**Does the autoregressive nature of X present problems for OLS estimates?**\n",
    "\n",
    "We see that for both the Dividend Ratio and the 10-yr Yield, the $R^{2}$ is large and the $\\beta$ is close to 1 and statistically significant.\n",
    "\n",
    "One of the assumptions for the classic OLS results, (the Gauss-Markov Theorem,) is that epsilon does not have serial correlation. Typically, if we use a regressor such as these two variables, with such high serial correlation, this will induce serial correlation in epsilon. Accordingly, we may not be able to trust the classic t-stats, as noted in the \"Notes\" of the package regression summaries (model.summary()).\n",
    "\n",
    "Furthermore, this high serial correlation of X means that in a regression such as that of 1(a), we may have significant small-sample bias.\n",
    "\n",
    "Accordingly, time-series regressions where the X has high serial correlation tend to rely on large-sample properties and adjusted t-stats."
   ]
  },
  {
   "cell_type": "markdown",
   "metadata": {},
   "source": [
    "## 2. OOS $R^{2}$"
   ]
  },
  {
   "cell_type": "markdown",
   "metadata": {},
   "source": [
    "Set up x and y and the minimum number of observations we want:"
   ]
  },
  {
   "cell_type": "code",
   "execution_count": 506,
   "metadata": {},
   "outputs": [],
   "source": [
    "X = sm.add_constant(data[['Dvd-Price Ratio','10-yr Yields']]).shift(1)\n",
    "y = data['SPY US Equity']\n",
    "min_obv = 60"
   ]
  },
  {
   "cell_type": "markdown",
   "metadata": {},
   "source": [
    "Starting at $t = 60$, loop through each time and observe the error when predicting future SPY returns with a regression (using dividend-price ratio and 10-year yields as factors) as opposed to using the mean as the prediction:"
   ]
  },
  {
   "cell_type": "code",
   "execution_count": 511,
   "metadata": {},
   "outputs": [
    {
     "name": "stdout",
     "output_type": "stream",
     "text": [
      "OOS r-squared:-0.0185\n"
     ]
    }
   ],
   "source": [
    "err_x, err_null = [], []\n",
    "\n",
    "for i in range(min_obv, len(y)):\n",
    "\n",
    "    ### Data up to t\n",
    "    currX = X.iloc[:i]\n",
    "    currY = y.iloc[:i]\n",
    "    \n",
    "    ### Fit the model \n",
    "    model = sm.OLS(currY, currX, missing='drop').fit()\n",
    "    \n",
    "    ### Use the model to predict next SPY returns using the most recent x values\n",
    "    pred = model.predict(X.iloc[[i]])[0]\n",
    "    \n",
    "    ### Forecast error of the regression\n",
    "    err_x.append(y.iat[i] - pred)\n",
    "    \n",
    "    ### Null error is the actual value - the mean of previous values\n",
    "    err_null.append(y.iat[i] - currY.mean())\n",
    "\n",
    "### Calculate out-of-sample r2 using the errors we calculated\n",
    "r_sqr_oos = 1 - np.square(err_x).sum() / np.square(err_null).sum()\n",
    "print('OOS r-squared:' + str(round(r_sqr_oos, 4)))"
   ]
  },
  {
   "cell_type": "markdown",
   "metadata": {},
   "source": [
    "## 3. Time-Series Models of Volatility"
   ]
  },
  {
   "cell_type": "markdown",
   "metadata": {},
   "source": [
    "We are using SPY, and we set up the initial parameters we are given:"
   ]
  },
  {
   "cell_type": "code",
   "execution_count": 438,
   "metadata": {},
   "outputs": [],
   "source": [
    "spy = data['SPY US Equity']\n",
    "\n",
    "var_1 = (0.15 * (1 / (12**0.5)))**2\n",
    "theta = 0.97"
   ]
  },
  {
   "cell_type": "markdown",
   "metadata": {},
   "source": [
    "Calculate the Expanding Series and Rolling Window estimates:"
   ]
  },
  {
   "cell_type": "code",
   "execution_count": 439,
   "metadata": {},
   "outputs": [],
   "source": [
    "### Expanding Window\n",
    "var = (spy**2).shift(1).expanding().mean().to_frame('Expanding Window')\n",
    "\n",
    "### Rolling Window\n",
    "var['Rolling Window'] = (spy**2).shift(1).rolling(60).mean() "
   ]
  },
  {
   "cell_type": "markdown",
   "metadata": {},
   "source": [
    "Using the arch package, fit a GARCH(1, 1) model. We will use the parameters generated to find our estimates:"
   ]
  },
  {
   "cell_type": "code",
   "execution_count": 440,
   "metadata": {},
   "outputs": [
    {
     "name": "stdout",
     "output_type": "stream",
     "text": [
      "Iteration:      1,   Func. Count:      6,   Neg. LLF: 92833051.57492794\n",
      "Iteration:      2,   Func. Count:     17,   Neg. LLF: 1061937.8929357708\n",
      "Iteration:      3,   Func. Count:     28,   Neg. LLF: 15.616654305919681\n",
      "Iteration:      4,   Func. Count:     36,   Neg. LLF: 686041.1518980877\n",
      "Iteration:      5,   Func. Count:     47,   Neg. LLF: -339.3344361403002\n",
      "Iteration:      6,   Func. Count:     54,   Neg. LLF: 116419382.52249691\n",
      "Iteration:      7,   Func. Count:     61,   Neg. LLF: -435.53119945743936\n",
      "Iteration:      8,   Func. Count:     67,   Neg. LLF: -432.61593581073873\n",
      "Iteration:      9,   Func. Count:     73,   Neg. LLF: -431.6293576469063\n",
      "Iteration:     10,   Func. Count:     79,   Neg. LLF: -439.9132064497704\n",
      "Iteration:     11,   Func. Count:     85,   Neg. LLF: -441.2947282201124\n",
      "Iteration:     12,   Func. Count:     91,   Neg. LLF: -434.2189514571762\n",
      "Iteration:     13,   Func. Count:     97,   Neg. LLF: -442.06911593307973\n",
      "Iteration:     14,   Func. Count:    102,   Neg. LLF: -442.0691812518231\n",
      "Iteration:     15,   Func. Count:    106,   Neg. LLF: -442.06918125164424\n",
      "Optimization terminated successfully    (Exit mode 0)\n",
      "            Current function value: -442.0691812518231\n",
      "            Iterations: 18\n",
      "            Function evaluations: 106\n",
      "            Gradient evaluations: 15\n"
     ]
    },
    {
     "data": {
      "text/plain": [
       "mu          0.009173\n",
       "omega       0.000088\n",
       "alpha[1]    0.219932\n",
       "beta[1]     0.740746\n",
       "Name: params, dtype: float64"
      ]
     },
     "execution_count": 440,
     "metadata": {},
     "output_type": "execute_result"
    }
   ],
   "source": [
    "GARCH = arch_model(spy, vol='Garch', p=1, o=0, q=1, dist='Normal')\n",
    "\n",
    "GARCH_model = GARCH.fit()\n",
    "\n",
    "GARCH_model.params"
   ]
  },
  {
   "cell_type": "markdown",
   "metadata": {},
   "source": [
    "We have $\\theta$ so we do not need the step below to find our estimates. However, this is an example of how to use the arch package to fit an IGARCH model. The package has several methods that could be useful in other applications."
   ]
  },
  {
   "cell_type": "code",
   "execution_count": 441,
   "metadata": {},
   "outputs": [
    {
     "name": "stdout",
     "output_type": "stream",
     "text": [
      "Iteration:      1,   Func. Count:      3,   Neg. LLF: 1797058.7870452015\n",
      "Iteration:      2,   Func. Count:     10,   Neg. LLF: -421.70203145874507\n",
      "Iteration:      3,   Func. Count:     11,   Neg. LLF: -421.7020314593276\n",
      "Optimization terminated successfully    (Exit mode 0)\n",
      "            Current function value: -421.70203145874507\n",
      "            Iterations: 3\n",
      "            Function evaluations: 11\n",
      "            Gradient evaluations: 3\n"
     ]
    },
    {
     "data": {
      "text/plain": [
       "mu    0.006533\n",
       "Name: params, dtype: float64"
      ]
     },
     "execution_count": 441,
     "metadata": {},
     "output_type": "execute_result"
    }
   ],
   "source": [
    "IGARCH = arch_model(spy)\n",
    "\n",
    "IGARCH.volatility = EWMAVariance(theta)\n",
    "\n",
    "IGARCH_model = IGARCH.fit()\n",
    "\n",
    "IGARCH_model.params"
   ]
  },
  {
   "cell_type": "markdown",
   "metadata": {},
   "source": [
    "We calculate our variance estimates for the GARCH and IGARCH models:"
   ]
  },
  {
   "cell_type": "code",
   "execution_count": 442,
   "metadata": {},
   "outputs": [
    {
     "data": {
      "text/html": [
       "<div>\n",
       "<style scoped>\n",
       "    .dataframe tbody tr th:only-of-type {\n",
       "        vertical-align: middle;\n",
       "    }\n",
       "\n",
       "    .dataframe tbody tr th {\n",
       "        vertical-align: top;\n",
       "    }\n",
       "\n",
       "    .dataframe thead th {\n",
       "        text-align: right;\n",
       "    }\n",
       "</style>\n",
       "<table border=\"1\" class=\"dataframe\">\n",
       "  <thead>\n",
       "    <tr style=\"text-align: right;\">\n",
       "      <th></th>\n",
       "      <th>Expanding Window</th>\n",
       "      <th>Rolling Window</th>\n",
       "      <th>GARCH</th>\n",
       "      <th>IGARCH</th>\n",
       "    </tr>\n",
       "    <tr>\n",
       "      <th>Date</th>\n",
       "      <th></th>\n",
       "      <th></th>\n",
       "      <th></th>\n",
       "      <th></th>\n",
       "    </tr>\n",
       "  </thead>\n",
       "  <tbody>\n",
       "    <tr>\n",
       "      <th>2004-10-31</th>\n",
       "      <td>0.002215</td>\n",
       "      <td>0.002215</td>\n",
       "      <td>0.000664</td>\n",
       "      <td>0.001847</td>\n",
       "    </tr>\n",
       "    <tr>\n",
       "      <th>2004-11-30</th>\n",
       "      <td>0.002181</td>\n",
       "      <td>0.002149</td>\n",
       "      <td>0.000616</td>\n",
       "      <td>0.001797</td>\n",
       "    </tr>\n",
       "    <tr>\n",
       "      <th>2004-12-31</th>\n",
       "      <td>0.002178</td>\n",
       "      <td>0.002177</td>\n",
       "      <td>0.000981</td>\n",
       "      <td>0.001802</td>\n",
       "    </tr>\n",
       "    <tr>\n",
       "      <th>2005-01-31</th>\n",
       "      <td>0.002158</td>\n",
       "      <td>0.002138</td>\n",
       "      <td>0.001015</td>\n",
       "      <td>0.001776</td>\n",
       "    </tr>\n",
       "    <tr>\n",
       "      <th>2005-02-28</th>\n",
       "      <td>0.002132</td>\n",
       "      <td>0.002105</td>\n",
       "      <td>0.00095</td>\n",
       "      <td>0.001737</td>\n",
       "    </tr>\n",
       "  </tbody>\n",
       "</table>\n",
       "</div>"
      ],
      "text/plain": [
       "            Expanding Window  Rolling Window     GARCH    IGARCH\n",
       "Date                                                            \n",
       "2004-10-31          0.002215        0.002215  0.000664  0.001847\n",
       "2004-11-30          0.002181        0.002149  0.000616  0.001797\n",
       "2004-12-31          0.002178        0.002177  0.000981  0.001802\n",
       "2005-01-31          0.002158        0.002138  0.001015  0.001776\n",
       "2005-02-28          0.002132        0.002105   0.00095  0.001737"
      ]
     },
     "execution_count": 442,
     "metadata": {},
     "output_type": "execute_result"
    }
   ],
   "source": [
    "var[['GARCH','IGARCH']] = None\n",
    "\n",
    "### Initialize with the given parameter\n",
    "var.iloc[0,2:] = var_1 \n",
    "\n",
    "### Simulate the rest of the period using the initial variance given\n",
    "for i in range(1, len(var)):\n",
    "    ### Forecast variance by plugging the GARCH and IGARCH parameters into their respective equations\n",
    "    var['IGARCH'].iloc[i] = var['IGARCH'].iloc[i-1] * theta + (1-theta)*(spy.iloc[i-1]**2)\n",
    "    var['GARCH'].iloc[i] = GARCH_model.params['omega'] + var['GARCH'].iloc[i-1] * GARCH_model.params['beta[1]'] + GARCH_model.params['alpha[1]']*(spy.iloc[i-1]**2)\n",
    "    \n",
    "var = var.dropna()\n",
    "\n",
    "var.head()"
   ]
  },
  {
   "cell_type": "markdown",
   "metadata": {},
   "source": [
    "Let's plot our volatility estimates now:"
   ]
  },
  {
   "cell_type": "code",
   "execution_count": 508,
   "metadata": {},
   "outputs": [
    {
     "data": {
      "image/png": "[encoded data removed]",
      "text/plain": [
       "<Figure size 1080x576 with 1 Axes>"
      ]
     },
     "metadata": {},
     "output_type": "display_data"
    }
   ],
   "source": [
    "### Convert variance to volatility\n",
    "vol = var**.5\n",
    "\n",
    "vol.plot()\n",
    "plt.title('Volatility Forecasts')\n",
    "plt.ylabel('Volatility')\n",
    "\n",
    "plt.show()"
   ]
  },
  {
   "cell_type": "markdown",
   "metadata": {},
   "source": [
    "Volatility estimates for October of 2008:"
   ]
  },
  {
   "cell_type": "code",
   "execution_count": 444,
   "metadata": {},
   "outputs": [
    {
     "data": {
      "text/html": [
       "<div>\n",
       "<style scoped>\n",
       "    .dataframe tbody tr th:only-of-type {\n",
       "        vertical-align: middle;\n",
       "    }\n",
       "\n",
       "    .dataframe tbody tr th {\n",
       "        vertical-align: top;\n",
       "    }\n",
       "\n",
       "    .dataframe thead th {\n",
       "        text-align: right;\n",
       "    }\n",
       "</style>\n",
       "<table border=\"1\" class=\"dataframe\">\n",
       "  <thead>\n",
       "    <tr style=\"text-align: right;\">\n",
       "      <th></th>\n",
       "      <th>Expanding Window</th>\n",
       "      <th>Rolling Window</th>\n",
       "      <th>GARCH</th>\n",
       "      <th>IGARCH</th>\n",
       "    </tr>\n",
       "    <tr>\n",
       "      <th>Date</th>\n",
       "      <th></th>\n",
       "      <th></th>\n",
       "      <th></th>\n",
       "      <th></th>\n",
       "    </tr>\n",
       "  </thead>\n",
       "  <tbody>\n",
       "    <tr>\n",
       "      <th>2008-10-31</th>\n",
       "      <td>0.040722</td>\n",
       "      <td>0.030171</td>\n",
       "      <td>0.056839</td>\n",
       "      <td>0.037187</td>\n",
       "    </tr>\n",
       "  </tbody>\n",
       "</table>\n",
       "</div>"
      ],
      "text/plain": [
       "            Expanding Window  Rolling Window     GARCH    IGARCH\n",
       "Date                                                            \n",
       "2008-10-31          0.040722        0.030171  0.056839  0.037187"
      ]
     },
     "execution_count": 444,
     "metadata": {},
     "output_type": "execute_result"
    }
   ],
   "source": [
    "vol.loc[\"2008-10\"]"
   ]
  },
  {
   "cell_type": "markdown",
   "metadata": {},
   "source": [
    "Volatility estimates for December of 2018:"
   ]
  },
  {
   "cell_type": "code",
   "execution_count": 445,
   "metadata": {},
   "outputs": [
    {
     "data": {
      "text/html": [
       "<div>\n",
       "<style scoped>\n",
       "    .dataframe tbody tr th:only-of-type {\n",
       "        vertical-align: middle;\n",
       "    }\n",
       "\n",
       "    .dataframe tbody tr th {\n",
       "        vertical-align: top;\n",
       "    }\n",
       "\n",
       "    .dataframe thead th {\n",
       "        text-align: right;\n",
       "    }\n",
       "</style>\n",
       "<table border=\"1\" class=\"dataframe\">\n",
       "  <thead>\n",
       "    <tr style=\"text-align: right;\">\n",
       "      <th></th>\n",
       "      <th>Expanding Window</th>\n",
       "      <th>Rolling Window</th>\n",
       "      <th>GARCH</th>\n",
       "      <th>IGARCH</th>\n",
       "    </tr>\n",
       "    <tr>\n",
       "      <th>Date</th>\n",
       "      <th></th>\n",
       "      <th></th>\n",
       "      <th></th>\n",
       "      <th></th>\n",
       "    </tr>\n",
       "  </thead>\n",
       "  <tbody>\n",
       "    <tr>\n",
       "      <th>2018-12-31</th>\n",
       "      <td>0.041776</td>\n",
       "      <td>0.030146</td>\n",
       "      <td>0.038554</td>\n",
       "      <td>0.032573</td>\n",
       "    </tr>\n",
       "  </tbody>\n",
       "</table>\n",
       "</div>"
      ],
      "text/plain": [
       "            Expanding Window  Rolling Window     GARCH    IGARCH\n",
       "Date                                                            \n",
       "2018-12-31          0.041776        0.030146  0.038554  0.032573"
      ]
     },
     "execution_count": 445,
     "metadata": {},
     "output_type": "execute_result"
    }
   ],
   "source": [
    "vol.loc[\"2018-12\"]"
   ]
  }
 ],
 "metadata": {
  "kernelspec": {
   "display_name": "Python 3",
   "language": "python",
   "name": "python3"
  },
  "language_info": {
   "codemirror_mode": {
    "name": "ipython",
    "version": 3
   },
   "file_extension": ".py",
   "mimetype": "text/x-python",
   "name": "python",
   "nbconvert_exporter": "python",
   "pygments_lexer": "ipython3",
   "version": "3.8.3"
  }
 },
 "nbformat": 4,
 "nbformat_minor": 4
}
