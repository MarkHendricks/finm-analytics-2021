{
 "cells": [
  {
   "cell_type": "markdown",
   "id": "54c0d594",
   "metadata": {},
   "source": [
    "# Data Analysis\n",
    "## FINM August Review\n",
    "\n",
    "# Homework Solution 1"
   ]
  },
  {
   "cell_type": "code",
   "execution_count": 1,
   "id": "8bd80e76",
   "metadata": {
    "ExecuteTime": {
     "end_time": "2021-06-24T01:37:08.632979Z",
     "start_time": "2021-06-24T01:37:08.625990Z"
    }
   },
   "outputs": [],
   "source": [
    "import pandas as pd\n",
    "import numpy as np\n",
    "import statsmodels.api as sm"
   ]
  },
  {
   "cell_type": "code",
   "execution_count": 2,
   "id": "0b185191",
   "metadata": {
    "ExecuteTime": {
     "end_time": "2021-06-24T01:37:08.687141Z",
     "start_time": "2021-06-24T01:37:08.635377Z"
    }
   },
   "outputs": [
    {
     "data": {
      "text/html": [
       "<div>\n",
       "<style scoped>\n",
       "    .dataframe tbody tr th:only-of-type {\n",
       "        vertical-align: middle;\n",
       "    }\n",
       "\n",
       "    .dataframe tbody tr th {\n",
       "        vertical-align: top;\n",
       "    }\n",
       "\n",
       "    .dataframe thead th {\n",
       "        text-align: right;\n",
       "    }\n",
       "</style>\n",
       "<table border=\"1\" class=\"dataframe\">\n",
       "  <thead>\n",
       "    <tr style=\"text-align: right;\">\n",
       "      <th></th>\n",
       "      <th>SPY US Equity</th>\n",
       "      <th>AAPL US Equity</th>\n",
       "      <th>CL1 Comdty</th>\n",
       "      <th>DXY Curncy</th>\n",
       "      <th>HFRIMTI Index</th>\n",
       "      <th>Rate Convexity</th>\n",
       "      <th>Portfolio</th>\n",
       "      <th>10-yr Yields</th>\n",
       "      <th>Dvd-Price Ratio</th>\n",
       "    </tr>\n",
       "    <tr>\n",
       "      <th>Date</th>\n",
       "      <th></th>\n",
       "      <th></th>\n",
       "      <th></th>\n",
       "      <th></th>\n",
       "      <th></th>\n",
       "      <th></th>\n",
       "      <th></th>\n",
       "      <th></th>\n",
       "      <th></th>\n",
       "    </tr>\n",
       "  </thead>\n",
       "  <tbody>\n",
       "    <tr>\n",
       "      <th>1999-10-31</th>\n",
       "      <td>0.064078</td>\n",
       "      <td>0.265523</td>\n",
       "      <td>-0.112607</td>\n",
       "      <td>0.005277</td>\n",
       "      <td>0.0235</td>\n",
       "      <td>0.025013</td>\n",
       "      <td>0.000072</td>\n",
       "      <td>0.06024</td>\n",
       "      <td>0.010868</td>\n",
       "    </tr>\n",
       "    <tr>\n",
       "      <th>1999-11-30</th>\n",
       "      <td>0.016651</td>\n",
       "      <td>0.221519</td>\n",
       "      <td>0.130575</td>\n",
       "      <td>0.029578</td>\n",
       "      <td>0.0250</td>\n",
       "      <td>0.027722</td>\n",
       "      <td>0.105636</td>\n",
       "      <td>0.06191</td>\n",
       "      <td>0.010690</td>\n",
       "    </tr>\n",
       "    <tr>\n",
       "      <th>1999-12-31</th>\n",
       "      <td>0.057089</td>\n",
       "      <td>0.050465</td>\n",
       "      <td>0.041074</td>\n",
       "      <td>-0.001177</td>\n",
       "      <td>0.0509</td>\n",
       "      <td>0.040543</td>\n",
       "      <td>0.042261</td>\n",
       "      <td>0.06442</td>\n",
       "      <td>0.009465</td>\n",
       "    </tr>\n",
       "    <tr>\n",
       "      <th>2000-01-31</th>\n",
       "      <td>-0.049787</td>\n",
       "      <td>0.009123</td>\n",
       "      <td>0.079687</td>\n",
       "      <td>0.032002</td>\n",
       "      <td>0.0155</td>\n",
       "      <td>0.034617</td>\n",
       "      <td>0.031966</td>\n",
       "      <td>0.06665</td>\n",
       "      <td>0.009961</td>\n",
       "    </tr>\n",
       "    <tr>\n",
       "      <th>2000-02-29</th>\n",
       "      <td>-0.015226</td>\n",
       "      <td>0.104820</td>\n",
       "      <td>0.100941</td>\n",
       "      <td>0.007515</td>\n",
       "      <td>0.0596</td>\n",
       "      <td>-0.038410</td>\n",
       "      <td>0.063138</td>\n",
       "      <td>0.06409</td>\n",
       "      <td>0.010792</td>\n",
       "    </tr>\n",
       "  </tbody>\n",
       "</table>\n",
       "</div>"
      ],
      "text/plain": [
       "            SPY US Equity  AAPL US Equity  CL1 Comdty  DXY Curncy  \\\n",
       "Date                                                                \n",
       "1999-10-31       0.064078        0.265523   -0.112607    0.005277   \n",
       "1999-11-30       0.016651        0.221519    0.130575    0.029578   \n",
       "1999-12-31       0.057089        0.050465    0.041074   -0.001177   \n",
       "2000-01-31      -0.049787        0.009123    0.079687    0.032002   \n",
       "2000-02-29      -0.015226        0.104820    0.100941    0.007515   \n",
       "\n",
       "            HFRIMTI Index  Rate Convexity  Portfolio  10-yr Yields  \\\n",
       "Date                                                                 \n",
       "1999-10-31         0.0235        0.025013   0.000072       0.06024   \n",
       "1999-11-30         0.0250        0.027722   0.105636       0.06191   \n",
       "1999-12-31         0.0509        0.040543   0.042261       0.06442   \n",
       "2000-01-31         0.0155        0.034617   0.031966       0.06665   \n",
       "2000-02-29         0.0596       -0.038410   0.063138       0.06409   \n",
       "\n",
       "            Dvd-Price Ratio  \n",
       "Date                         \n",
       "1999-10-31         0.010868  \n",
       "1999-11-30         0.010690  \n",
       "1999-12-31         0.009465  \n",
       "2000-01-31         0.009961  \n",
       "2000-02-29         0.010792  "
      ]
     },
     "execution_count": 2,
     "metadata": {},
     "output_type": "execute_result"
    }
   ],
   "source": [
    "data = pd.read_excel(\"../data/hw_1_data.xlsx\").rename(columns={\"Unnamed: 0\": \"Date\"}).set_index(\"Date\")\n",
    "data.head(5)"
   ]
  },
  {
   "cell_type": "code",
   "execution_count": 3,
   "id": "df5c320d",
   "metadata": {
    "ExecuteTime": {
     "end_time": "2021-06-24T01:37:08.696249Z",
     "start_time": "2021-06-24T01:37:08.689632Z"
    }
   },
   "outputs": [
    {
     "data": {
      "text/html": [
       "<div>\n",
       "<style scoped>\n",
       "    .dataframe tbody tr th:only-of-type {\n",
       "        vertical-align: middle;\n",
       "    }\n",
       "\n",
       "    .dataframe tbody tr th {\n",
       "        vertical-align: top;\n",
       "    }\n",
       "\n",
       "    .dataframe thead th {\n",
       "        text-align: right;\n",
       "    }\n",
       "</style>\n",
       "<table border=\"1\" class=\"dataframe\">\n",
       "  <thead>\n",
       "    <tr style=\"text-align: right;\">\n",
       "      <th></th>\n",
       "      <th>SPY US Equity</th>\n",
       "      <th>AAPL US Equity</th>\n",
       "      <th>CL1 Comdty</th>\n",
       "      <th>DXY Curncy</th>\n",
       "      <th>HFRIMTI Index</th>\n",
       "      <th>Rate Convexity</th>\n",
       "    </tr>\n",
       "    <tr>\n",
       "      <th>Date</th>\n",
       "      <th></th>\n",
       "      <th></th>\n",
       "      <th></th>\n",
       "      <th></th>\n",
       "      <th></th>\n",
       "      <th></th>\n",
       "    </tr>\n",
       "  </thead>\n",
       "  <tbody>\n",
       "    <tr>\n",
       "      <th>1999-10-31</th>\n",
       "      <td>0.064078</td>\n",
       "      <td>0.265523</td>\n",
       "      <td>-0.112607</td>\n",
       "      <td>0.005277</td>\n",
       "      <td>0.0235</td>\n",
       "      <td>0.025013</td>\n",
       "    </tr>\n",
       "    <tr>\n",
       "      <th>1999-11-30</th>\n",
       "      <td>0.016651</td>\n",
       "      <td>0.221519</td>\n",
       "      <td>0.130575</td>\n",
       "      <td>0.029578</td>\n",
       "      <td>0.0250</td>\n",
       "      <td>0.027722</td>\n",
       "    </tr>\n",
       "    <tr>\n",
       "      <th>1999-12-31</th>\n",
       "      <td>0.057089</td>\n",
       "      <td>0.050465</td>\n",
       "      <td>0.041074</td>\n",
       "      <td>-0.001177</td>\n",
       "      <td>0.0509</td>\n",
       "      <td>0.040543</td>\n",
       "    </tr>\n",
       "    <tr>\n",
       "      <th>2000-01-31</th>\n",
       "      <td>-0.049787</td>\n",
       "      <td>0.009123</td>\n",
       "      <td>0.079687</td>\n",
       "      <td>0.032002</td>\n",
       "      <td>0.0155</td>\n",
       "      <td>0.034617</td>\n",
       "    </tr>\n",
       "    <tr>\n",
       "      <th>2000-02-29</th>\n",
       "      <td>-0.015226</td>\n",
       "      <td>0.104820</td>\n",
       "      <td>0.100941</td>\n",
       "      <td>0.007515</td>\n",
       "      <td>0.0596</td>\n",
       "      <td>-0.038410</td>\n",
       "    </tr>\n",
       "  </tbody>\n",
       "</table>\n",
       "</div>"
      ],
      "text/plain": [
       "            SPY US Equity  AAPL US Equity  CL1 Comdty  DXY Curncy  \\\n",
       "Date                                                                \n",
       "1999-10-31       0.064078        0.265523   -0.112607    0.005277   \n",
       "1999-11-30       0.016651        0.221519    0.130575    0.029578   \n",
       "1999-12-31       0.057089        0.050465    0.041074   -0.001177   \n",
       "2000-01-31      -0.049787        0.009123    0.079687    0.032002   \n",
       "2000-02-29      -0.015226        0.104820    0.100941    0.007515   \n",
       "\n",
       "            HFRIMTI Index  Rate Convexity  \n",
       "Date                                       \n",
       "1999-10-31         0.0235        0.025013  \n",
       "1999-11-30         0.0250        0.027722  \n",
       "1999-12-31         0.0509        0.040543  \n",
       "2000-01-31         0.0155        0.034617  \n",
       "2000-02-29         0.0596       -0.038410  "
      ]
     },
     "execution_count": 3,
     "metadata": {},
     "output_type": "execute_result"
    }
   ],
   "source": [
    "returns = data.iloc[:,:6].copy()\n",
    "returns.head(5)"
   ]
  },
  {
   "cell_type": "markdown",
   "id": "d6b72931",
   "metadata": {},
   "source": [
    "# Regression\n",
    "\n",
    "## 1"
   ]
  },
  {
   "cell_type": "code",
   "execution_count": 4,
   "id": "f622a42f",
   "metadata": {
    "ExecuteTime": {
     "end_time": "2021-06-24T01:37:08.773349Z",
     "start_time": "2021-06-24T01:37:08.764291Z"
    }
   },
   "outputs": [
    {
     "data": {
      "text/html": [
       "<table class=\"simpletable\">\n",
       "<caption>OLS Regression Results</caption>\n",
       "<tr>\n",
       "  <th>Dep. Variable:</th>        <td>Portfolio</td>    <th>  R-squared:         </th> <td>   0.303</td>\n",
       "</tr>\n",
       "<tr>\n",
       "  <th>Model:</th>                   <td>OLS</td>       <th>  Adj. R-squared:    </th> <td>   0.300</td>\n",
       "</tr>\n",
       "<tr>\n",
       "  <th>Method:</th>             <td>Least Squares</td>  <th>  F-statistic:       </th> <td>   103.0</td>\n",
       "</tr>\n",
       "<tr>\n",
       "  <th>Date:</th>             <td>Thu, 05 Aug 2021</td> <th>  Prob (F-statistic):</th> <td>2.50e-20</td>\n",
       "</tr>\n",
       "<tr>\n",
       "  <th>Time:</th>                 <td>12:01:48</td>     <th>  Log-Likelihood:    </th> <td>  387.05</td>\n",
       "</tr>\n",
       "<tr>\n",
       "  <th>No. Observations:</th>      <td>   239</td>      <th>  AIC:               </th> <td>  -770.1</td>\n",
       "</tr>\n",
       "<tr>\n",
       "  <th>Df Residuals:</th>          <td>   237</td>      <th>  BIC:               </th> <td>  -763.2</td>\n",
       "</tr>\n",
       "<tr>\n",
       "  <th>Df Model:</th>              <td>     1</td>      <th>                     </th>     <td> </td>   \n",
       "</tr>\n",
       "<tr>\n",
       "  <th>Covariance Type:</th>      <td>nonrobust</td>    <th>                     </th>     <td> </td>   \n",
       "</tr>\n",
       "</table>\n",
       "<table class=\"simpletable\">\n",
       "<tr>\n",
       "        <td></td>           <th>coef</th>     <th>std err</th>      <th>t</th>      <th>P>|t|</th>  <th>[0.025</th>    <th>0.975]</th>  \n",
       "</tr>\n",
       "<tr>\n",
       "  <th>const</th>         <td>    0.0050</td> <td>    0.003</td> <td>    1.592</td> <td> 0.113</td> <td>   -0.001</td> <td>    0.011</td>\n",
       "</tr>\n",
       "<tr>\n",
       "  <th>SPY US Equity</th> <td>    0.7536</td> <td>    0.074</td> <td>   10.149</td> <td> 0.000</td> <td>    0.607</td> <td>    0.900</td>\n",
       "</tr>\n",
       "</table>\n",
       "<table class=\"simpletable\">\n",
       "<tr>\n",
       "  <th>Omnibus:</th>       <td> 3.225</td> <th>  Durbin-Watson:     </th> <td>   1.894</td>\n",
       "</tr>\n",
       "<tr>\n",
       "  <th>Prob(Omnibus):</th> <td> 0.199</td> <th>  Jarque-Bera (JB):  </th> <td>   2.854</td>\n",
       "</tr>\n",
       "<tr>\n",
       "  <th>Skew:</th>          <td>-0.231</td> <th>  Prob(JB):          </th> <td>   0.240</td>\n",
       "</tr>\n",
       "<tr>\n",
       "  <th>Kurtosis:</th>      <td> 3.272</td> <th>  Cond. No.          </th> <td>    23.9</td>\n",
       "</tr>\n",
       "</table><br/><br/>Notes:<br/>[1] Standard Errors assume that the covariance matrix of the errors is correctly specified."
      ],
      "text/plain": [
       "<class 'statsmodels.iolib.summary.Summary'>\n",
       "\"\"\"\n",
       "                            OLS Regression Results                            \n",
       "==============================================================================\n",
       "Dep. Variable:              Portfolio   R-squared:                       0.303\n",
       "Model:                            OLS   Adj. R-squared:                  0.300\n",
       "Method:                 Least Squares   F-statistic:                     103.0\n",
       "Date:                Thu, 05 Aug 2021   Prob (F-statistic):           2.50e-20\n",
       "Time:                        12:01:48   Log-Likelihood:                 387.05\n",
       "No. Observations:                 239   AIC:                            -770.1\n",
       "Df Residuals:                     237   BIC:                            -763.2\n",
       "Df Model:                           1                                         \n",
       "Covariance Type:            nonrobust                                         \n",
       "=================================================================================\n",
       "                    coef    std err          t      P>|t|      [0.025      0.975]\n",
       "---------------------------------------------------------------------------------\n",
       "const             0.0050      0.003      1.592      0.113      -0.001       0.011\n",
       "SPY US Equity     0.7536      0.074     10.149      0.000       0.607       0.900\n",
       "==============================================================================\n",
       "Omnibus:                        3.225   Durbin-Watson:                   1.894\n",
       "Prob(Omnibus):                  0.199   Jarque-Bera (JB):                2.854\n",
       "Skew:                          -0.231   Prob(JB):                        0.240\n",
       "Kurtosis:                       3.272   Cond. No.                         23.9\n",
       "==============================================================================\n",
       "\n",
       "Notes:\n",
       "[1] Standard Errors assume that the covariance matrix of the errors is correctly specified.\n",
       "\"\"\""
      ]
     },
     "execution_count": 4,
     "metadata": {},
     "output_type": "execute_result"
    }
   ],
   "source": [
    "X = sm.add_constant(returns['SPY US Equity'])\n",
    "y = data['Portfolio']\n",
    "model1 = sm.OLS(y, X).fit()\n",
    "model1.summary()"
   ]
  },
  {
   "cell_type": "markdown",
   "id": "6c34bfd6",
   "metadata": {},
   "source": [
    "## 2"
   ]
  },
  {
   "cell_type": "code",
   "execution_count": 5,
   "id": "252b791b",
   "metadata": {
    "ExecuteTime": {
     "end_time": "2021-06-24T01:37:08.784226Z",
     "start_time": "2021-06-24T01:37:08.775144Z"
    }
   },
   "outputs": [
    {
     "data": {
      "text/html": [
       "<table class=\"simpletable\">\n",
       "<caption>OLS Regression Results</caption>\n",
       "<tr>\n",
       "  <th>Dep. Variable:</th>        <td>Portfolio</td>    <th>  R-squared:         </th> <td>   0.926</td> \n",
       "</tr>\n",
       "<tr>\n",
       "  <th>Model:</th>                   <td>OLS</td>       <th>  Adj. R-squared:    </th> <td>   0.926</td> \n",
       "</tr>\n",
       "<tr>\n",
       "  <th>Method:</th>             <td>Least Squares</td>  <th>  F-statistic:       </th> <td>   1482.</td> \n",
       "</tr>\n",
       "<tr>\n",
       "  <th>Date:</th>             <td>Thu, 05 Aug 2021</td> <th>  Prob (F-statistic):</th> <td>2.55e-134</td>\n",
       "</tr>\n",
       "<tr>\n",
       "  <th>Time:</th>                 <td>12:01:48</td>     <th>  Log-Likelihood:    </th> <td>  655.45</td> \n",
       "</tr>\n",
       "<tr>\n",
       "  <th>No. Observations:</th>      <td>   239</td>      <th>  AIC:               </th> <td>  -1305.</td> \n",
       "</tr>\n",
       "<tr>\n",
       "  <th>Df Residuals:</th>          <td>   236</td>      <th>  BIC:               </th> <td>  -1294.</td> \n",
       "</tr>\n",
       "<tr>\n",
       "  <th>Df Model:</th>              <td>     2</td>      <th>                     </th>     <td> </td>    \n",
       "</tr>\n",
       "<tr>\n",
       "  <th>Covariance Type:</th>      <td>nonrobust</td>    <th>                     </th>     <td> </td>    \n",
       "</tr>\n",
       "</table>\n",
       "<table class=\"simpletable\">\n",
       "<tr>\n",
       "        <td></td>           <th>coef</th>     <th>std err</th>      <th>t</th>      <th>P>|t|</th>  <th>[0.025</th>    <th>0.975]</th>  \n",
       "</tr>\n",
       "<tr>\n",
       "  <th>const</th>         <td>    0.0029</td> <td>    0.001</td> <td>    2.798</td> <td> 0.006</td> <td>    0.001</td> <td>    0.005</td>\n",
       "</tr>\n",
       "<tr>\n",
       "  <th>SPY US Equity</th> <td>    0.4439</td> <td>    0.025</td> <td>   17.627</td> <td> 0.000</td> <td>    0.394</td> <td>    0.493</td>\n",
       "</tr>\n",
       "<tr>\n",
       "  <th>CL1 Comdty</th>    <td>    0.5115</td> <td>    0.011</td> <td>   44.656</td> <td> 0.000</td> <td>    0.489</td> <td>    0.534</td>\n",
       "</tr>\n",
       "</table>\n",
       "<table class=\"simpletable\">\n",
       "<tr>\n",
       "  <th>Omnibus:</th>       <td>27.735</td> <th>  Durbin-Watson:     </th> <td>   2.039</td>\n",
       "</tr>\n",
       "<tr>\n",
       "  <th>Prob(Omnibus):</th> <td> 0.000</td> <th>  Jarque-Bera (JB):  </th> <td>  98.835</td>\n",
       "</tr>\n",
       "<tr>\n",
       "  <th>Skew:</th>          <td>-0.365</td> <th>  Prob(JB):          </th> <td>3.45e-22</td>\n",
       "</tr>\n",
       "<tr>\n",
       "  <th>Kurtosis:</th>      <td> 6.064</td> <th>  Cond. No.          </th> <td>    25.1</td>\n",
       "</tr>\n",
       "</table><br/><br/>Notes:<br/>[1] Standard Errors assume that the covariance matrix of the errors is correctly specified."
      ],
      "text/plain": [
       "<class 'statsmodels.iolib.summary.Summary'>\n",
       "\"\"\"\n",
       "                            OLS Regression Results                            \n",
       "==============================================================================\n",
       "Dep. Variable:              Portfolio   R-squared:                       0.926\n",
       "Model:                            OLS   Adj. R-squared:                  0.926\n",
       "Method:                 Least Squares   F-statistic:                     1482.\n",
       "Date:                Thu, 05 Aug 2021   Prob (F-statistic):          2.55e-134\n",
       "Time:                        12:01:48   Log-Likelihood:                 655.45\n",
       "No. Observations:                 239   AIC:                            -1305.\n",
       "Df Residuals:                     236   BIC:                            -1294.\n",
       "Df Model:                           2                                         \n",
       "Covariance Type:            nonrobust                                         \n",
       "=================================================================================\n",
       "                    coef    std err          t      P>|t|      [0.025      0.975]\n",
       "---------------------------------------------------------------------------------\n",
       "const             0.0029      0.001      2.798      0.006       0.001       0.005\n",
       "SPY US Equity     0.4439      0.025     17.627      0.000       0.394       0.493\n",
       "CL1 Comdty        0.5115      0.011     44.656      0.000       0.489       0.534\n",
       "==============================================================================\n",
       "Omnibus:                       27.735   Durbin-Watson:                   2.039\n",
       "Prob(Omnibus):                  0.000   Jarque-Bera (JB):               98.835\n",
       "Skew:                          -0.365   Prob(JB):                     3.45e-22\n",
       "Kurtosis:                       6.064   Cond. No.                         25.1\n",
       "==============================================================================\n",
       "\n",
       "Notes:\n",
       "[1] Standard Errors assume that the covariance matrix of the errors is correctly specified.\n",
       "\"\"\""
      ]
     },
     "execution_count": 5,
     "metadata": {},
     "output_type": "execute_result"
    }
   ],
   "source": [
    "X = sm.add_constant(returns[['SPY US Equity', 'CL1 Comdty']])\n",
    "y = data['Portfolio']\n",
    "model2 = sm.OLS(y, X).fit()\n",
    "model2.summary()"
   ]
  },
  {
   "cell_type": "markdown",
   "id": "854561b6",
   "metadata": {},
   "source": [
    "Notice that the beta on SPY is much lower now that we include CL1. Also note that the R-squared is much higher."
   ]
  },
  {
   "cell_type": "markdown",
   "id": "67c497e1",
   "metadata": {},
   "source": [
    "## 3"
   ]
  },
  {
   "cell_type": "code",
   "execution_count": 6,
   "id": "7a85e3c8",
   "metadata": {
    "ExecuteTime": {
     "end_time": "2021-06-24T01:37:08.788236Z",
     "start_time": "2021-06-24T01:37:08.784889Z"
    }
   },
   "outputs": [
    {
     "data": {
      "text/plain": [
       "(0.9624107616253494, 0.9262344740922852)"
      ]
     },
     "execution_count": 6,
     "metadata": {},
     "output_type": "execute_result"
    }
   ],
   "source": [
    "fitted_ts = model2.params[0] + model2.params[1] * returns['SPY US Equity'] + model2.params[2] * returns['CL1 Comdty']\n",
    "corr = fitted_ts.corr(data['Portfolio'])\n",
    "corr, corr**2"
   ]
  },
  {
   "cell_type": "markdown",
   "id": "b3466d23",
   "metadata": {},
   "source": [
    "The squared correlation is exactly the R^2, as R^2 captures the correlation of Portfolio's return and the combined space spanned by both regressors."
   ]
  },
  {
   "cell_type": "markdown",
   "id": "5e48b19f",
   "metadata": {},
   "source": [
    "## 4"
   ]
  },
  {
   "cell_type": "code",
   "execution_count": 7,
   "id": "e362b40b",
   "metadata": {
    "ExecuteTime": {
     "end_time": "2021-06-24T01:37:08.791609Z",
     "start_time": "2021-06-24T01:37:08.789012Z"
    }
   },
   "outputs": [
    {
     "data": {
      "text/plain": [
       "0.2754456042254609"
      ]
     },
     "execution_count": 7,
     "metadata": {},
     "output_type": "execute_result"
    }
   ],
   "source": [
    "corr = returns['CL1 Comdty'].corr(returns['SPY US Equity'])\n",
    "corr"
   ]
  },
  {
   "cell_type": "markdown",
   "id": "36661f63",
   "metadata": {},
   "source": [
    "The beta in (2) is much smaller than in (1). This is because Oil and SPY is significantly correlated, therefore a large proportion of the variation in the Portfolio return which was being attributed to SPY (in eq 1) was actually better explained by Oil. Thus, in eq (2) this gets attributed more directly to Oil, and less is attributed to SPY."
   ]
  },
  {
   "cell_type": "markdown",
   "id": "61f577aa",
   "metadata": {},
   "source": [
    "## 5"
   ]
  },
  {
   "cell_type": "markdown",
   "id": "c3ab71cf",
   "metadata": {},
   "source": [
    "Without doing calculation, the intuition is that the second regression includes Oil as a regressor. Sample residuals are always uncorrelated (in-sample) to the regressors. Thus, in this regression we know the sample residual will have zero correlation to Oil. In the first regression, Oil was not a regressor, so it may have substantial correlation to the sample residual.\n",
    "\n",
    "For population residuals, $\\epsilon$, we still expect much smaller correlation to Oil in the second regression, though this population residual may still have some correlation to Oil."
   ]
  },
  {
   "cell_type": "code",
   "execution_count": 8,
   "id": "7e2a3982",
   "metadata": {
    "ExecuteTime": {
     "end_time": "2021-06-24T01:37:08.794778Z",
     "start_time": "2021-06-24T01:37:08.792287Z"
    }
   },
   "outputs": [
    {
     "data": {
      "text/plain": [
       "0.9090306838982621"
      ]
     },
     "execution_count": 8,
     "metadata": {},
     "output_type": "execute_result"
    }
   ],
   "source": [
    "returns['CL1 Comdty'].corr(model1.resid)"
   ]
  },
  {
   "cell_type": "code",
   "execution_count": 9,
   "id": "f206e4ba",
   "metadata": {
    "ExecuteTime": {
     "end_time": "2021-06-24T01:37:08.799376Z",
     "start_time": "2021-06-24T01:37:08.795572Z"
    }
   },
   "outputs": [
    {
     "data": {
      "text/plain": [
       "-6.846186638780074e-16"
      ]
     },
     "execution_count": 9,
     "metadata": {},
     "output_type": "execute_result"
    }
   ],
   "source": [
    "returns['CL1 Comdty'].corr(model2.resid)"
   ]
  },
  {
   "cell_type": "markdown",
   "id": "693fc955",
   "metadata": {},
   "source": [
    "# 2. Decomposing and Replicating"
   ]
  },
  {
   "cell_type": "markdown",
   "id": "9f7bf944",
   "metadata": {},
   "source": [
    "## 1"
   ]
  },
  {
   "cell_type": "code",
   "execution_count": 10,
   "id": "20ed45fc",
   "metadata": {
    "ExecuteTime": {
     "end_time": "2021-06-24T01:37:08.805042Z",
     "start_time": "2021-06-24T01:37:08.800384Z"
    }
   },
   "outputs": [
    {
     "data": {
      "text/plain": [
       "SPY US Equity     2.500000e-01\n",
       "AAPL US Equity    1.500000e-01\n",
       "CL1 Comdty        5.000000e-01\n",
       "DXY Curncy        1.000000e-01\n",
       "HFRIMTI Index    -2.827599e-16\n",
       "Rate Convexity   -4.857226e-17\n",
       "dtype: float64"
      ]
     },
     "execution_count": 10,
     "metadata": {},
     "output_type": "execute_result"
    }
   ],
   "source": [
    "X = returns.copy()\n",
    "y = data['Portfolio']\n",
    "model3 = sm.OLS(y, X).fit()\n",
    "weights = model3.params\n",
    "weights"
   ]
  },
  {
   "cell_type": "markdown",
   "id": "2d29ddc9",
   "metadata": {},
   "source": [
    "## 2.2"
   ]
  },
  {
   "cell_type": "code",
   "execution_count": 11,
   "id": "418f2e44",
   "metadata": {
    "ExecuteTime": {
     "end_time": "2021-06-24T01:37:08.812093Z",
     "start_time": "2021-06-24T01:37:08.806286Z"
    }
   },
   "outputs": [
    {
     "data": {
      "text/html": [
       "<div>\n",
       "<style scoped>\n",
       "    .dataframe tbody tr th:only-of-type {\n",
       "        vertical-align: middle;\n",
       "    }\n",
       "\n",
       "    .dataframe tbody tr th {\n",
       "        vertical-align: top;\n",
       "    }\n",
       "\n",
       "    .dataframe thead th {\n",
       "        text-align: right;\n",
       "    }\n",
       "</style>\n",
       "<table border=\"1\" class=\"dataframe\">\n",
       "  <thead>\n",
       "    <tr style=\"text-align: right;\">\n",
       "      <th></th>\n",
       "      <th>SPY US Equity</th>\n",
       "      <th>CL1 Comdty</th>\n",
       "      <th>DXY Curncy</th>\n",
       "      <th>HFRIMTI Index</th>\n",
       "      <th>Rate Convexity</th>\n",
       "    </tr>\n",
       "    <tr>\n",
       "      <th>Date</th>\n",
       "      <th></th>\n",
       "      <th></th>\n",
       "      <th></th>\n",
       "      <th></th>\n",
       "      <th></th>\n",
       "    </tr>\n",
       "  </thead>\n",
       "  <tbody>\n",
       "    <tr>\n",
       "      <th>1999-10-31</th>\n",
       "      <td>0.064078</td>\n",
       "      <td>-0.112607</td>\n",
       "      <td>0.005277</td>\n",
       "      <td>0.0235</td>\n",
       "      <td>0.025013</td>\n",
       "    </tr>\n",
       "    <tr>\n",
       "      <th>1999-11-30</th>\n",
       "      <td>0.016651</td>\n",
       "      <td>0.130575</td>\n",
       "      <td>0.029578</td>\n",
       "      <td>0.0250</td>\n",
       "      <td>0.027722</td>\n",
       "    </tr>\n",
       "    <tr>\n",
       "      <th>1999-12-31</th>\n",
       "      <td>0.057089</td>\n",
       "      <td>0.041074</td>\n",
       "      <td>-0.001177</td>\n",
       "      <td>0.0509</td>\n",
       "      <td>0.040543</td>\n",
       "    </tr>\n",
       "    <tr>\n",
       "      <th>2000-01-31</th>\n",
       "      <td>-0.049787</td>\n",
       "      <td>0.079687</td>\n",
       "      <td>0.032002</td>\n",
       "      <td>0.0155</td>\n",
       "      <td>0.034617</td>\n",
       "    </tr>\n",
       "    <tr>\n",
       "      <th>2000-02-29</th>\n",
       "      <td>-0.015226</td>\n",
       "      <td>0.100941</td>\n",
       "      <td>0.007515</td>\n",
       "      <td>0.0596</td>\n",
       "      <td>-0.038410</td>\n",
       "    </tr>\n",
       "  </tbody>\n",
       "</table>\n",
       "</div>"
      ],
      "text/plain": [
       "            SPY US Equity  CL1 Comdty  DXY Curncy  HFRIMTI Index  \\\n",
       "Date                                                               \n",
       "1999-10-31       0.064078   -0.112607    0.005277         0.0235   \n",
       "1999-11-30       0.016651    0.130575    0.029578         0.0250   \n",
       "1999-12-31       0.057089    0.041074   -0.001177         0.0509   \n",
       "2000-01-31      -0.049787    0.079687    0.032002         0.0155   \n",
       "2000-02-29      -0.015226    0.100941    0.007515         0.0596   \n",
       "\n",
       "            Rate Convexity  \n",
       "Date                        \n",
       "1999-10-31        0.025013  \n",
       "1999-11-30        0.027722  \n",
       "1999-12-31        0.040543  \n",
       "2000-01-31        0.034617  \n",
       "2000-02-29       -0.038410  "
      ]
     },
     "execution_count": 11,
     "metadata": {},
     "output_type": "execute_result"
    }
   ],
   "source": [
    "subset = data.loc[:\"2018\"].copy()\n",
    "returns_subset = subset.iloc[:,[0,2,3,4,5]].copy()\n",
    "returns_subset.head(5)"
   ]
  },
  {
   "cell_type": "code",
   "execution_count": 12,
   "id": "77f7dcbb",
   "metadata": {
    "ExecuteTime": {
     "end_time": "2021-06-24T01:37:08.821632Z",
     "start_time": "2021-06-24T01:37:08.812850Z"
    }
   },
   "outputs": [
    {
     "data": {
      "text/html": [
       "<table class=\"simpletable\">\n",
       "<caption>OLS Regression Results</caption>\n",
       "<tr>\n",
       "  <th>Dep. Variable:</th>     <td>AAPL US Equity</td>  <th>  R-squared (uncentered):</th>      <td>   0.343</td>\n",
       "</tr>\n",
       "<tr>\n",
       "  <th>Model:</th>                   <td>OLS</td>       <th>  Adj. R-squared (uncentered):</th> <td>   0.329</td>\n",
       "</tr>\n",
       "<tr>\n",
       "  <th>Method:</th>             <td>Least Squares</td>  <th>  F-statistic:       </th>          <td>   23.63</td>\n",
       "</tr>\n",
       "<tr>\n",
       "  <th>Date:</th>             <td>Thu, 05 Aug 2021</td> <th>  Prob (F-statistic):</th>          <td>4.37e-19</td>\n",
       "</tr>\n",
       "<tr>\n",
       "  <th>Time:</th>                 <td>12:01:49</td>     <th>  Log-Likelihood:    </th>          <td>  206.97</td>\n",
       "</tr>\n",
       "<tr>\n",
       "  <th>No. Observations:</th>      <td>   231</td>      <th>  AIC:               </th>          <td>  -403.9</td>\n",
       "</tr>\n",
       "<tr>\n",
       "  <th>Df Residuals:</th>          <td>   226</td>      <th>  BIC:               </th>          <td>  -386.7</td>\n",
       "</tr>\n",
       "<tr>\n",
       "  <th>Df Model:</th>              <td>     5</td>      <th>                     </th>              <td> </td>   \n",
       "</tr>\n",
       "<tr>\n",
       "  <th>Covariance Type:</th>      <td>nonrobust</td>    <th>                     </th>              <td> </td>   \n",
       "</tr>\n",
       "</table>\n",
       "<table class=\"simpletable\">\n",
       "<tr>\n",
       "         <td></td>           <th>coef</th>     <th>std err</th>      <th>t</th>      <th>P>|t|</th>  <th>[0.025</th>    <th>0.975]</th>  \n",
       "</tr>\n",
       "<tr>\n",
       "  <th>SPY US Equity</th>  <td>    1.5349</td> <td>    0.185</td> <td>    8.285</td> <td> 0.000</td> <td>    1.170</td> <td>    1.900</td>\n",
       "</tr>\n",
       "<tr>\n",
       "  <th>CL1 Comdty</th>     <td>    0.2297</td> <td>    0.079</td> <td>    2.892</td> <td> 0.004</td> <td>    0.073</td> <td>    0.386</td>\n",
       "</tr>\n",
       "<tr>\n",
       "  <th>DXY Curncy</th>     <td>    1.1449</td> <td>    0.320</td> <td>    3.576</td> <td> 0.000</td> <td>    0.514</td> <td>    1.776</td>\n",
       "</tr>\n",
       "<tr>\n",
       "  <th>HFRIMTI Index</th>  <td>    0.7743</td> <td>    0.311</td> <td>    2.487</td> <td> 0.014</td> <td>    0.161</td> <td>    1.388</td>\n",
       "</tr>\n",
       "<tr>\n",
       "  <th>Rate Convexity</th> <td>   -0.0979</td> <td>    0.089</td> <td>   -1.096</td> <td> 0.274</td> <td>   -0.274</td> <td>    0.078</td>\n",
       "</tr>\n",
       "</table>\n",
       "<table class=\"simpletable\">\n",
       "<tr>\n",
       "  <th>Omnibus:</th>       <td>32.610</td> <th>  Durbin-Watson:     </th> <td>   1.848</td>\n",
       "</tr>\n",
       "<tr>\n",
       "  <th>Prob(Omnibus):</th> <td> 0.000</td> <th>  Jarque-Bera (JB):  </th> <td> 130.489</td>\n",
       "</tr>\n",
       "<tr>\n",
       "  <th>Skew:</th>          <td>-0.446</td> <th>  Prob(JB):          </th> <td>4.62e-29</td>\n",
       "</tr>\n",
       "<tr>\n",
       "  <th>Kurtosis:</th>      <td> 6.572</td> <th>  Cond. No.          </th> <td>    5.20</td>\n",
       "</tr>\n",
       "</table><br/><br/>Notes:<br/>[1] R² is computed without centering (uncentered) since the model does not contain a constant.<br/>[2] Standard Errors assume that the covariance matrix of the errors is correctly specified."
      ],
      "text/plain": [
       "<class 'statsmodels.iolib.summary.Summary'>\n",
       "\"\"\"\n",
       "                                 OLS Regression Results                                \n",
       "=======================================================================================\n",
       "Dep. Variable:         AAPL US Equity   R-squared (uncentered):                   0.343\n",
       "Model:                            OLS   Adj. R-squared (uncentered):              0.329\n",
       "Method:                 Least Squares   F-statistic:                              23.63\n",
       "Date:                Thu, 05 Aug 2021   Prob (F-statistic):                    4.37e-19\n",
       "Time:                        12:01:49   Log-Likelihood:                          206.97\n",
       "No. Observations:                 231   AIC:                                     -403.9\n",
       "Df Residuals:                     226   BIC:                                     -386.7\n",
       "Df Model:                           5                                                  \n",
       "Covariance Type:            nonrobust                                                  \n",
       "==================================================================================\n",
       "                     coef    std err          t      P>|t|      [0.025      0.975]\n",
       "----------------------------------------------------------------------------------\n",
       "SPY US Equity      1.5349      0.185      8.285      0.000       1.170       1.900\n",
       "CL1 Comdty         0.2297      0.079      2.892      0.004       0.073       0.386\n",
       "DXY Curncy         1.1449      0.320      3.576      0.000       0.514       1.776\n",
       "HFRIMTI Index      0.7743      0.311      2.487      0.014       0.161       1.388\n",
       "Rate Convexity    -0.0979      0.089     -1.096      0.274      -0.274       0.078\n",
       "==============================================================================\n",
       "Omnibus:                       32.610   Durbin-Watson:                   1.848\n",
       "Prob(Omnibus):                  0.000   Jarque-Bera (JB):              130.489\n",
       "Skew:                          -0.446   Prob(JB):                     4.62e-29\n",
       "Kurtosis:                       6.572   Cond. No.                         5.20\n",
       "==============================================================================\n",
       "\n",
       "Notes:\n",
       "[1] R² is computed without centering (uncentered) since the model does not contain a constant.\n",
       "[2] Standard Errors assume that the covariance matrix of the errors is correctly specified.\n",
       "\"\"\""
      ]
     },
     "execution_count": 12,
     "metadata": {},
     "output_type": "execute_result"
    }
   ],
   "source": [
    "X = returns_subset\n",
    "y = subset['AAPL US Equity']\n",
    "model4 = sm.OLS(y, X).fit()\n",
    "model4.summary()"
   ]
  },
  {
   "cell_type": "markdown",
   "id": "cb241253",
   "metadata": {},
   "source": [
    "All returns except \"Rate Convexity\" has absolute t-ratio greater than 2.\n",
    "\n",
    "Note that while we can estimate an R-squared, it doesn't make much sense in a regression without an intercept. (It does not need to be between 0 and 1.) This Python package does a good job reminding users of that fact."
   ]
  },
  {
   "cell_type": "markdown",
   "id": "4a6a6403",
   "metadata": {},
   "source": [
    "## 2.3"
   ]
  },
  {
   "cell_type": "code",
   "execution_count": 13,
   "id": "b4d76a13",
   "metadata": {
    "ExecuteTime": {
     "end_time": "2021-06-24T01:37:08.826712Z",
     "start_time": "2021-06-24T01:37:08.822348Z"
    }
   },
   "outputs": [
    {
     "data": {
      "text/plain": [
       "0.9133321873785296"
      ]
     },
     "execution_count": 13,
     "metadata": {},
     "output_type": "execute_result"
    }
   ],
   "source": [
    "fitted_ts = (model4.params * returns.loc[\"2019\", [\"SPY US Equity\", \"CL1 Comdty\", \"DXY Curncy\", \"HFRIMTI Index\", \"Rate Convexity\"]]).sum(axis=1)\n",
    "fitted_ts.corr(returns.loc[\"2019\",\"AAPL US Equity\"])"
   ]
  },
  {
   "cell_type": "markdown",
   "id": "098067bd",
   "metadata": {},
   "source": [
    "This is much higher than the in-sample R^2 above.\n",
    "\n",
    "This is likely due to luck in small samples. Typically we expect to see much lower fit out-of-sample."
   ]
  }
 ],
 "metadata": {
  "kernelspec": {
   "display_name": "Python 3",
   "language": "python",
   "name": "python3"
  },
  "language_info": {
   "codemirror_mode": {
    "name": "ipython",
    "version": 3
   },
   "file_extension": ".py",
   "mimetype": "text/x-python",
   "name": "python",
   "nbconvert_exporter": "python",
   "pygments_lexer": "ipython3",
   "version": "3.8.2"
  },
  "toc": {
   "base_numbering": 1,
   "nav_menu": {},
   "number_sections": true,
   "sideBar": true,
   "skip_h1_title": false,
   "title_cell": "Table of Contents",
   "title_sidebar": "Contents",
   "toc_cell": false,
   "toc_position": {},
   "toc_section_display": true,
   "toc_window_display": false
  },
  "varInspector": {
   "cols": {
    "lenName": 16,
    "lenType": 16,
    "lenVar": 40
   },
   "kernels_config": {
    "python": {
     "delete_cmd_postfix": "",
     "delete_cmd_prefix": "del ",
     "library": "var_list.py",
     "varRefreshCmd": "print(var_dic_list())"
    },
    "r": {
     "delete_cmd_postfix": ") ",
     "delete_cmd_prefix": "rm(",
     "library": "var_list.r",
     "varRefreshCmd": "cat(var_dic_list()) "
    }
   },
   "types_to_exclude": [
    "module",
    "function",
    "builtin_function_or_method",
    "instance",
    "_Feature"
   ],
   "window_display": false
  }
 },
 "nbformat": 4,
 "nbformat_minor": 5
}
