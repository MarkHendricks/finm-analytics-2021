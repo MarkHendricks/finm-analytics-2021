{
 "cells": [
  {
   "cell_type": "markdown",
   "metadata": {},
   "source": [
    "## Penalized Regression Methods Example Code"
   ]
  },
  {
   "cell_type": "markdown",
   "metadata": {},
   "source": [
    "### Imports"
   ]
  },
  {
   "cell_type": "code",
   "execution_count": 535,
   "metadata": {},
   "outputs": [],
   "source": [
    "import pandas as pd\n",
    "import numpy as np \n",
    "\n",
    "import yfinance as yf\n",
    "\n",
    "from sklearn.linear_model import Ridge, RidgeCV, Lasso, LassoCV, LinearRegression\n",
    "from sklearn.model_selection import train_test_split\n",
    "from sklearn.metrics import mean_squared_error"
   ]
  },
  {
   "cell_type": "markdown",
   "metadata": {},
   "source": [
    "### Data\n",
    "- Use data from demo regression, but shorten the time frame so the data is more noisy (beneficial for penalized regression)"
   ]
  },
  {
   "cell_type": "code",
   "execution_count": 565,
   "metadata": {},
   "outputs": [
    {
     "name": "stdout",
     "output_type": "stream",
     "text": [
      "[*********************100%***********************]  8 of 8 completed\n"
     ]
    },
    {
     "data": {
      "text/html": [
       "<div>\n",
       "<style scoped>\n",
       "    .dataframe tbody tr th:only-of-type {\n",
       "        vertical-align: middle;\n",
       "    }\n",
       "\n",
       "    .dataframe tbody tr th {\n",
       "        vertical-align: top;\n",
       "    }\n",
       "\n",
       "    .dataframe thead th {\n",
       "        text-align: right;\n",
       "    }\n",
       "</style>\n",
       "<table border=\"1\" class=\"dataframe\">\n",
       "  <thead>\n",
       "    <tr style=\"text-align: right;\">\n",
       "      <th></th>\n",
       "      <th>AAPL</th>\n",
       "      <th>BTC-USD</th>\n",
       "      <th>F</th>\n",
       "      <th>GM</th>\n",
       "      <th>GOOGL</th>\n",
       "      <th>IVV</th>\n",
       "      <th>MSFT</th>\n",
       "      <th>SPY</th>\n",
       "    </tr>\n",
       "    <tr>\n",
       "      <th>Date</th>\n",
       "      <th></th>\n",
       "      <th></th>\n",
       "      <th></th>\n",
       "      <th></th>\n",
       "      <th></th>\n",
       "      <th></th>\n",
       "      <th></th>\n",
       "      <th></th>\n",
       "    </tr>\n",
       "  </thead>\n",
       "  <tbody>\n",
       "    <tr>\n",
       "      <th>2020-07-01</th>\n",
       "      <td>-0.001892</td>\n",
       "      <td>0.009885</td>\n",
       "      <td>-0.016447</td>\n",
       "      <td>-0.013439</td>\n",
       "      <td>0.016889</td>\n",
       "      <td>0.006846</td>\n",
       "      <td>0.005847</td>\n",
       "      <td>0.007005</td>\n",
       "    </tr>\n",
       "    <tr>\n",
       "      <th>2020-07-02</th>\n",
       "      <td>0.000000</td>\n",
       "      <td>-0.011369</td>\n",
       "      <td>0.011706</td>\n",
       "      <td>0.011218</td>\n",
       "      <td>0.019369</td>\n",
       "      <td>0.005260</td>\n",
       "      <td>0.007621</td>\n",
       "      <td>0.005507</td>\n",
       "    </tr>\n",
       "    <tr>\n",
       "      <th>2020-07-06</th>\n",
       "      <td>0.026750</td>\n",
       "      <td>0.027628</td>\n",
       "      <td>0.023140</td>\n",
       "      <td>0.019414</td>\n",
       "      <td>0.020219</td>\n",
       "      <td>0.015345</td>\n",
       "      <td>0.021526</td>\n",
       "      <td>0.015437</td>\n",
       "    </tr>\n",
       "    <tr>\n",
       "      <th>2020-07-07</th>\n",
       "      <td>-0.003103</td>\n",
       "      <td>-0.013140</td>\n",
       "      <td>-0.011309</td>\n",
       "      <td>-0.023319</td>\n",
       "      <td>-0.006488</td>\n",
       "      <td>-0.010306</td>\n",
       "      <td>-0.011628</td>\n",
       "      <td>-0.010314</td>\n",
       "    </tr>\n",
       "    <tr>\n",
       "      <th>2020-07-08</th>\n",
       "      <td>0.023290</td>\n",
       "      <td>0.019028</td>\n",
       "      <td>-0.004902</td>\n",
       "      <td>-0.007561</td>\n",
       "      <td>0.009182</td>\n",
       "      <td>0.007461</td>\n",
       "      <td>0.021993</td>\n",
       "      <td>0.007649</td>\n",
       "    </tr>\n",
       "  </tbody>\n",
       "</table>\n",
       "</div>"
      ],
      "text/plain": [
       "                AAPL   BTC-USD         F        GM     GOOGL       IVV  \\\n",
       "Date                                                                     \n",
       "2020-07-01 -0.001892  0.009885 -0.016447 -0.013439  0.016889  0.006846   \n",
       "2020-07-02  0.000000 -0.011369  0.011706  0.011218  0.019369  0.005260   \n",
       "2020-07-06  0.026750  0.027628  0.023140  0.019414  0.020219  0.015345   \n",
       "2020-07-07 -0.003103 -0.013140 -0.011309 -0.023319 -0.006488 -0.010306   \n",
       "2020-07-08  0.023290  0.019028 -0.004902 -0.007561  0.009182  0.007461   \n",
       "\n",
       "                MSFT       SPY  \n",
       "Date                            \n",
       "2020-07-01  0.005847  0.007005  \n",
       "2020-07-02  0.007621  0.005507  \n",
       "2020-07-06  0.021526  0.015437  \n",
       "2020-07-07 -0.011628 -0.010314  \n",
       "2020-07-08  0.021993  0.007649  "
      ]
     },
     "execution_count": 565,
     "metadata": {},
     "output_type": "execute_result"
    }
   ],
   "source": [
    "df = yf.download(\"AAPL F GM IVV MSFT GOOGL SPY BTC-USD\", start=\"2020-06-30\", end=\"2021-06-30\")['Adj Close']\n",
    "\n",
    "data = df.dropna().pct_change().dropna()\n",
    "\n",
    "data.head()"
   ]
  },
  {
   "cell_type": "markdown",
   "metadata": {},
   "source": [
    "**Regressand and regressors set up:**\n",
    "> Let's use securities to replicate BTC-USD"
   ]
  },
  {
   "cell_type": "code",
   "execution_count": 566,
   "metadata": {},
   "outputs": [],
   "source": [
    "y = data['BTC-USD']\n",
    "\n",
    "x = data[['AAPL','F','GM','GOOGL','IVV','MSFT','SPY']]"
   ]
  },
  {
   "cell_type": "markdown",
   "metadata": {},
   "source": [
    "Let's split the data into train (first 75% of data) and test (25%) sets:"
   ]
  },
  {
   "cell_type": "code",
   "execution_count": 567,
   "metadata": {},
   "outputs": [],
   "source": [
    "x_train, x_test , y_train, y_test = train_test_split(x, y, test_size=0.25, shuffle = False)"
   ]
  },
  {
   "cell_type": "markdown",
   "metadata": {},
   "source": [
    "### Penalized Regression\n",
    "These methods deal with multicollinearity by penalizing when more factors/regressors are added."
   ]
  },
  {
   "cell_type": "markdown",
   "metadata": {},
   "source": [
    "**Lasso:** Lasso uses a penalty that is the absolute value of a coefficient multiplied by a parameter $\\lambda$\n",
    "> $\\beta^{LASSO}$ minimizes $(y-X\\beta)^{2} + \\lambda|\\beta|$"
   ]
  },
  {
   "cell_type": "markdown",
   "metadata": {},
   "source": [
    "**Example Code**"
   ]
  },
  {
   "cell_type": "code",
   "execution_count": 568,
   "metadata": {},
   "outputs": [
    {
     "data": {
      "text/plain": [
       "array([ 0.21858932, -0.00757204,  0.12843141,  0.04505072,  0.        ,\n",
       "        0.        ,  0.        ])"
      ]
     },
     "execution_count": 568,
     "metadata": {},
     "output_type": "execute_result"
    }
   ],
   "source": [
    "### Alpha is the lambda parameter above, if alpha = 0 we are running OLS \n",
    "Lasso_model = Lasso(alpha = 0.00005)\n",
    "Lasso_res = Lasso_model.fit(x_train, y_train)\n",
    "\n",
    "### Lasso coefficients\n",
    "Lasso_res.coef_"
   ]
  },
  {
   "cell_type": "code",
   "execution_count": 576,
   "metadata": {},
   "outputs": [
    {
     "data": {
      "text/plain": [
       "array([ 0.19908325, -0.        ,  0.10306768,  0.01140893,  0.        ,\n",
       "        0.        ,  0.        ])"
      ]
     },
     "execution_count": 576,
     "metadata": {},
     "output_type": "execute_result"
    }
   ],
   "source": [
    "### We can optimize the alpha parameter by using cross validation\n",
    "### Run 10 cross validation simulations\n",
    "Lasso_cv = LassoCV(alphas = None, cv = 10, max_iter = 100000)\n",
    "Lasso_cv_model = Lasso_cv.fit(x_train,y_train)\n",
    "Lasso_cv_model.coef_"
   ]
  },
  {
   "cell_type": "code",
   "execution_count": 577,
   "metadata": {},
   "outputs": [
    {
     "data": {
      "text/plain": [
       "6.720575171941788e-05"
      ]
     },
     "execution_count": 577,
     "metadata": {},
     "output_type": "execute_result"
    }
   ],
   "source": [
    "### Optimal parameter\n",
    "Lasso_cv_model.alpha_"
   ]
  },
  {
   "cell_type": "markdown",
   "metadata": {},
   "source": [
    "**Ridge:** Ridge uses a penalty that is the square of a coefficient multiplied by a parameter $\\lambda$\n",
    "> $\\beta^{RIDGE}$ minimizes $(y-X\\beta)^{2} + \\lambda\\beta^{2}$"
   ]
  },
  {
   "cell_type": "markdown",
   "metadata": {},
   "source": [
    "**Example Code:**"
   ]
  },
  {
   "cell_type": "code",
   "execution_count": 578,
   "metadata": {},
   "outputs": [
    {
     "data": {
      "text/plain": [
       "array([ 0.16406925, -0.32258409,  0.28691113,  0.04768535,  0.36066716,\n",
       "       -0.08657664,  0.34537472])"
      ]
     },
     "execution_count": 578,
     "metadata": {},
     "output_type": "execute_result"
    }
   ],
   "source": [
    "### Alpha is the lambda parameter above, if alpha = 0 we are running OLS \n",
    "Ridge_model = Ridge(alpha = 0.005)\n",
    "Ridge_res = Ridge_model.fit(x_train, y_train)\n",
    "\n",
    "### Ridge coefficients\n",
    "Ridge_res.coef_"
   ]
  },
  {
   "cell_type": "code",
   "execution_count": 579,
   "metadata": {},
   "outputs": [
    {
     "data": {
      "text/plain": [
       "array([ 0.12416993, -0.07191499,  0.12953284,  0.06755291,  0.09039052,\n",
       "        0.05541742,  0.08951268])"
      ]
     },
     "execution_count": 579,
     "metadata": {},
     "output_type": "execute_result"
    }
   ],
   "source": [
    "### We can optimize the alpha parameter by inputting a set of possible alphas and a scoring selection metric\n",
    "alphas = 10**np.linspace(10,-2,100)*0.5\n",
    "\n",
    "Ridge_cv = RidgeCV(alphas = alphas, scoring = 'neg_mean_squared_error')\n",
    "Ridge_cv_model = Ridge_cv.fit(x_train,y_train)\n",
    "Ridge_cv_model.coef_"
   ]
  },
  {
   "cell_type": "code",
   "execution_count": 580,
   "metadata": {},
   "outputs": [
    {
     "data": {
      "text/plain": [
       "0.08148754173103201"
      ]
     },
     "execution_count": 580,
     "metadata": {},
     "output_type": "execute_result"
    }
   ],
   "source": [
    "### Optimal parameter\n",
    "Ridge_cv_model.alpha_"
   ]
  },
  {
   "cell_type": "markdown",
   "metadata": {},
   "source": [
    "**Out of Sample MSE Performance for Ridge vs. OLS:**"
   ]
  },
  {
   "cell_type": "code",
   "execution_count": 581,
   "metadata": {},
   "outputs": [
    {
     "data": {
      "text/plain": [
       "0.003300072449996496"
      ]
     },
     "execution_count": 581,
     "metadata": {},
     "output_type": "execute_result"
    }
   ],
   "source": [
    "### Ridge out of sample mean squared error\n",
    "ridge_oos = Ridge(alpha = Ridge_cv_model.alpha_, normalize = True)\n",
    "ridge_oos.fit(x_train, y_train)\n",
    "\n",
    "mean_squared_error(y_test, ridge_oos.predict(x_test))"
   ]
  },
  {
   "cell_type": "code",
   "execution_count": 582,
   "metadata": {},
   "outputs": [
    {
     "data": {
      "text/plain": [
       "0.0033692932864966122"
      ]
     },
     "execution_count": 582,
     "metadata": {},
     "output_type": "execute_result"
    }
   ],
   "source": [
    "OLS_oos = LinearRegression().fit(x_train, y_train)\n",
    "\n",
    "mean_squared_error(y_test, OLS_oos.predict(x_test))"
   ]
  },
  {
   "cell_type": "markdown",
   "metadata": {},
   "source": [
    "Note that Ridge or Lasso will not be very effective in this use case as there is not high multicollinearity between the x variables or many x variables, this code mostly serves as a demo for how to implement Ridge or Lasso."
   ]
  }
 ],
 "metadata": {
  "kernelspec": {
   "display_name": "Python 3",
   "language": "python",
   "name": "python3"
  },
  "language_info": {
   "codemirror_mode": {
    "name": "ipython",
    "version": 3
   },
   "file_extension": ".py",
   "mimetype": "text/x-python",
   "name": "python",
   "nbconvert_exporter": "python",
   "pygments_lexer": "ipython3",
   "version": "3.8.3"
  }
 },
 "nbformat": 4,
 "nbformat_minor": 4
}
